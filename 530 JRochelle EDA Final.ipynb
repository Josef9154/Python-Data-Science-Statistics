{
 "cells": [
  {
   "cell_type": "markdown",
   "metadata": {},
   "source": [
    "## DSC 530 ThinkStats\n",
    "## Final Assesement\n",
    "## Joseph Rochelle\n",
    "\n"
   ]
  },
  {
   "cell_type": "markdown",
   "metadata": {},
   "source": [
    "**Importing Libraries that will be used:** The libraries are a combination of common Python libraries and thinkstats2, which acts as a wrapper to some other libraries from Allen B. Downey from *Think Stats Exploratory Data Analysis.* "
   ]
  },
  {
   "cell_type": "code",
   "execution_count": 21,
   "metadata": {},
   "outputs": [],
   "source": [
    "import pandas as pd\n",
    "import numpy as np\n",
    "import thinkstats2  \n",
    "from thinkstats2 import Cdf\n",
    "import thinkplot  \n",
    "import matplotlib.pyplot as plt \n",
    "import statsmodels.api as sm"
   ]
  },
  {
   "cell_type": "markdown",
   "metadata": {},
   "source": [
    "**Dataset:** The data that was selected for this project was from the New York Times and Covid data. The data is available on GitHub that retrieved information for others to use at the following: https://github.com/nytimes/covid-19-data/blob/master/live/us-states.csv\n",
    "\n",
    "It is important to note that this project selected states so that the aggregated data would be able to do a simple regression. There are other hypothesis tests that could be conducted by adding additional influencing variables at a county level. For example, one could examine if the spread of Covid was related to other attributes that are not in this data set but locating additional data at a state or county level. \n",
    "\n",
    "For this project, we kept the data simply as the influencing or moderating data mentioned here would require consistent data operational definitions with a general understanding of replicability before adding to the model. The primary focus of this project is the relationships between `cases` and `deaths`.\n"
   ]
  },
  {
   "cell_type": "code",
   "execution_count": 2,
   "metadata": {},
   "outputs": [],
   "source": [
    "Covid = pd.read_csv(\"us-states.csv\")"
   ]
  },
  {
   "cell_type": "code",
   "execution_count": 3,
   "metadata": {
    "scrolled": true
   },
   "outputs": [
    {
     "data": {
      "text/html": [
       "<div>\n",
       "<style scoped>\n",
       "    .dataframe tbody tr th:only-of-type {\n",
       "        vertical-align: middle;\n",
       "    }\n",
       "\n",
       "    .dataframe tbody tr th {\n",
       "        vertical-align: top;\n",
       "    }\n",
       "\n",
       "    .dataframe thead th {\n",
       "        text-align: right;\n",
       "    }\n",
       "</style>\n",
       "<table border=\"1\" class=\"dataframe\">\n",
       "  <thead>\n",
       "    <tr style=\"text-align: right;\">\n",
       "      <th></th>\n",
       "      <th>date</th>\n",
       "      <th>state</th>\n",
       "      <th>fips</th>\n",
       "      <th>cases</th>\n",
       "      <th>deaths</th>\n",
       "      <th>confirmed_cases</th>\n",
       "      <th>confirmed_deaths</th>\n",
       "      <th>probable_cases</th>\n",
       "      <th>probable_deaths</th>\n",
       "    </tr>\n",
       "  </thead>\n",
       "  <tbody>\n",
       "    <tr>\n",
       "      <td>0</td>\n",
       "      <td>2020-08-02</td>\n",
       "      <td>Alabama</td>\n",
       "      <td>1</td>\n",
       "      <td>89349</td>\n",
       "      <td>1603</td>\n",
       "      <td>86780.0</td>\n",
       "      <td>1553.0</td>\n",
       "      <td>2569.0</td>\n",
       "      <td>50.0</td>\n",
       "    </tr>\n",
       "    <tr>\n",
       "      <td>1</td>\n",
       "      <td>2020-08-02</td>\n",
       "      <td>Alaska</td>\n",
       "      <td>2</td>\n",
       "      <td>3825</td>\n",
       "      <td>22</td>\n",
       "      <td>3825.0</td>\n",
       "      <td>22.0</td>\n",
       "      <td>0.0</td>\n",
       "      <td>0.0</td>\n",
       "    </tr>\n",
       "    <tr>\n",
       "      <td>2</td>\n",
       "      <td>2020-08-02</td>\n",
       "      <td>Arizona</td>\n",
       "      <td>4</td>\n",
       "      <td>177008</td>\n",
       "      <td>3753</td>\n",
       "      <td>NaN</td>\n",
       "      <td>NaN</td>\n",
       "      <td>NaN</td>\n",
       "      <td>NaN</td>\n",
       "    </tr>\n",
       "    <tr>\n",
       "      <td>3</td>\n",
       "      <td>2020-08-02</td>\n",
       "      <td>Arkansas</td>\n",
       "      <td>5</td>\n",
       "      <td>43173</td>\n",
       "      <td>458</td>\n",
       "      <td>43173.0</td>\n",
       "      <td>458.0</td>\n",
       "      <td>0.0</td>\n",
       "      <td>0.0</td>\n",
       "    </tr>\n",
       "    <tr>\n",
       "      <td>4</td>\n",
       "      <td>2020-08-02</td>\n",
       "      <td>California</td>\n",
       "      <td>6</td>\n",
       "      <td>509507</td>\n",
       "      <td>9365</td>\n",
       "      <td>509507.0</td>\n",
       "      <td>9365.0</td>\n",
       "      <td>0.0</td>\n",
       "      <td>0.0</td>\n",
       "    </tr>\n",
       "  </tbody>\n",
       "</table>\n",
       "</div>"
      ],
      "text/plain": [
       "         date       state  fips   cases  deaths  confirmed_cases  \\\n",
       "0  2020-08-02     Alabama     1   89349    1603          86780.0   \n",
       "1  2020-08-02      Alaska     2    3825      22           3825.0   \n",
       "2  2020-08-02     Arizona     4  177008    3753              NaN   \n",
       "3  2020-08-02    Arkansas     5   43173     458          43173.0   \n",
       "4  2020-08-02  California     6  509507    9365         509507.0   \n",
       "\n",
       "   confirmed_deaths  probable_cases  probable_deaths  \n",
       "0            1553.0          2569.0             50.0  \n",
       "1              22.0             0.0              0.0  \n",
       "2               NaN             NaN              NaN  \n",
       "3             458.0             0.0              0.0  \n",
       "4            9365.0             0.0              0.0  "
      ]
     },
     "execution_count": 3,
     "metadata": {},
     "output_type": "execute_result"
    }
   ],
   "source": [
    "Covid.head()"
   ]
  },
  {
   "cell_type": "markdown",
   "metadata": {},
   "source": [
    "**Data Cleaning:** The data data is rather clean; howerver, there are some data missing from confirmed cases to probable deaths as some states did not report any likage. It is also important to note that there have been some states that were required to change procedures for recording the data that have caused some inconclusive results in terms of replicability of all 5 constructs.\n",
    "\n",
    "The NaN data will be handled by skipping over during testing."
   ]
  },
  {
   "cell_type": "markdown",
   "metadata": {},
   "source": [
    "**Histograms:** The purpose of doing histograms is to determine if there are any outliers with explaining the data or reasons why it should be handled in a certain way. \n",
    "\n",
    "After reviewing, you can tell the data is skewed slightly too some states having less cases and deaths compared to hotspots that are more than 5-10X that of other states.  Certainly an example of not having a federal level amount of regulations and perfect example of why state level governance of a pandemic does not work.\n"
   ]
  },
  {
   "cell_type": "code",
   "execution_count": 7,
   "metadata": {
    "scrolled": true
   },
   "outputs": [
    {
     "data": {
      "text/plain": [
       "<matplotlib.axes._subplots.AxesSubplot at 0x1bc8619ce08>"
      ]
     },
     "execution_count": 7,
     "metadata": {},
     "output_type": "execute_result"
    },
    {
     "data": {
      "image/png": "[encoded data removed]",
      "text/plain": [
       "<Figure size 432x288 with 1 Axes>"
      ]
     },
     "metadata": {
      "needs_background": "light"
     },
     "output_type": "display_data"
    }
   ],
   "source": [
    "Covid['cases'].hist ()"
   ]
  },
  {
   "cell_type": "code",
   "execution_count": 8,
   "metadata": {},
   "outputs": [
    {
     "data": {
      "text/plain": [
       "<matplotlib.axes._subplots.AxesSubplot at 0x1bc864f0f48>"
      ]
     },
     "execution_count": 8,
     "metadata": {},
     "output_type": "execute_result"
    },
    {
     "data": {
      "image/png": "[encoded data removed]",
      "text/plain": [
       "<Figure size 432x288 with 1 Axes>"
      ]
     },
     "metadata": {
      "needs_background": "light"
     },
     "output_type": "display_data"
    }
   ],
   "source": [
    "Covid['deaths'].hist ()"
   ]
  },
  {
   "cell_type": "code",
   "execution_count": 9,
   "metadata": {},
   "outputs": [
    {
     "data": {
      "text/plain": [
       "<matplotlib.axes._subplots.AxesSubplot at 0x1bc8756b948>"
      ]
     },
     "execution_count": 9,
     "metadata": {},
     "output_type": "execute_result"
    },
    {
     "data": {
      "image/png": "[encoded data removed]",
      "text/plain": [
       "<Figure size 432x288 with 1 Axes>"
      ]
     },
     "metadata": {
      "needs_background": "light"
     },
     "output_type": "display_data"
    }
   ],
   "source": [
    "Covid['confirmed_cases'].hist ()"
   ]
  },
  {
   "cell_type": "code",
   "execution_count": 10,
   "metadata": {},
   "outputs": [
    {
     "data": {
      "text/plain": [
       "<matplotlib.axes._subplots.AxesSubplot at 0x1bc875e6888>"
      ]
     },
     "execution_count": 10,
     "metadata": {},
     "output_type": "execute_result"
    },
    {
     "data": {
      "image/png": "[encoded data removed]",
      "text/plain": [
       "<Figure size 432x288 with 1 Axes>"
      ]
     },
     "metadata": {
      "needs_background": "light"
     },
     "output_type": "display_data"
    }
   ],
   "source": [
    "Covid['confirmed_deaths'].hist ()"
   ]
  },
  {
   "cell_type": "code",
   "execution_count": 11,
   "metadata": {},
   "outputs": [
    {
     "data": {
      "text/plain": [
       "<matplotlib.axes._subplots.AxesSubplot at 0x1bc8763fe48>"
      ]
     },
     "execution_count": 11,
     "metadata": {},
     "output_type": "execute_result"
    },
    {
     "data": {
      "image/png": "[encoded data removed]",
      "text/plain": [
       "<Figure size 432x288 with 1 Axes>"
      ]
     },
     "metadata": {
      "needs_background": "light"
     },
     "output_type": "display_data"
    }
   ],
   "source": [
    "Covid['probable_cases'].hist ()"
   ]
  },
  {
   "cell_type": "code",
   "execution_count": 12,
   "metadata": {},
   "outputs": [
    {
     "data": {
      "text/plain": [
       "<matplotlib.axes._subplots.AxesSubplot at 0x1bc876f2cc8>"
      ]
     },
     "execution_count": 12,
     "metadata": {},
     "output_type": "execute_result"
    },
    {
     "data": {
      "image/png": "[encoded data removed]",
      "text/plain": [
       "<Figure size 432x288 with 1 Axes>"
      ]
     },
     "metadata": {
      "needs_background": "light"
     },
     "output_type": "display_data"
    }
   ],
   "source": [
    "Covid['confirmed_deaths'].hist ()"
   ]
  },
  {
   "cell_type": "markdown",
   "metadata": {},
   "source": [
    "**Descriptive Characteristics:** The purpose of this next section is to understand what the descriptive statistics look like for the variables selected. By reviewing these, we get a general idea of what the ranges are for the data"
   ]
  },
  {
   "cell_type": "code",
   "execution_count": 13,
   "metadata": {
    "scrolled": false
   },
   "outputs": [
    {
     "data": {
      "text/plain": [
       "count        55.000000\n",
       "mean      84154.290909\n",
       "std      118981.755840\n",
       "min          44.000000\n",
       "25%       13541.000000\n",
       "50%       47357.000000\n",
       "75%       91768.500000\n",
       "max      509507.000000\n",
       "Name: cases, dtype: float64"
      ]
     },
     "execution_count": 13,
     "metadata": {},
     "output_type": "execute_result"
    }
   ],
   "source": [
    "Covid['cases'].describe()"
   ]
  },
  {
   "cell_type": "code",
   "execution_count": 14,
   "metadata": {
    "scrolled": true
   },
   "outputs": [
    {
     "data": {
      "text/plain": [
       "count       55.000000\n",
       "mean      2816.527273\n",
       "std       5122.364728\n",
       "min          2.000000\n",
       "25%        268.500000\n",
       "50%        955.000000\n",
       "75%       3510.500000\n",
       "max      32390.000000\n",
       "Name: deaths, dtype: float64"
      ]
     },
     "execution_count": 14,
     "metadata": {},
     "output_type": "execute_result"
    }
   ],
   "source": [
    "Covid['deaths'].describe()"
   ]
  },
  {
   "cell_type": "code",
   "execution_count": 15,
   "metadata": {},
   "outputs": [
    {
     "data": {
      "text/plain": [
       "count        45.000000\n",
       "mean      75640.622222\n",
       "std      114531.122187\n",
       "min           0.000000\n",
       "25%        6595.000000\n",
       "50%       43173.000000\n",
       "75%       89816.000000\n",
       "max      509507.000000\n",
       "Name: confirmed_cases, dtype: float64"
      ]
     },
     "execution_count": 15,
     "metadata": {},
     "output_type": "execute_result"
    }
   ],
   "source": [
    "Covid['confirmed_cases'].describe()"
   ]
  },
  {
   "cell_type": "code",
   "execution_count": 16,
   "metadata": {},
   "outputs": [
    {
     "data": {
      "text/plain": [
       "count       43.000000\n",
       "mean      2769.186047\n",
       "std       4976.697271\n",
       "min          2.000000\n",
       "25%        133.000000\n",
       "50%        871.000000\n",
       "75%       3074.500000\n",
       "max      27764.000000\n",
       "Name: confirmed_deaths, dtype: float64"
      ]
     },
     "execution_count": 16,
     "metadata": {},
     "output_type": "execute_result"
    }
   ],
   "source": [
    "Covid['confirmed_deaths'].describe()"
   ]
  },
  {
   "cell_type": "code",
   "execution_count": 17,
   "metadata": {},
   "outputs": [
    {
     "data": {
      "text/plain": [
       "count        45.000000\n",
       "mean      12740.377778\n",
       "std       71362.318544\n",
       "min           0.000000\n",
       "25%           0.000000\n",
       "50%         109.000000\n",
       "75%        1651.000000\n",
       "max      480020.000000\n",
       "Name: probable_cases, dtype: float64"
      ]
     },
     "execution_count": 17,
     "metadata": {},
     "output_type": "execute_result"
    }
   ],
   "source": [
    "Covid['probable_cases'].describe()"
   ]
  },
  {
   "cell_type": "code",
   "execution_count": 18,
   "metadata": {},
   "outputs": [
    {
     "data": {
      "text/plain": [
       "count      43.000000\n",
       "mean      249.348837\n",
       "std       798.742192\n",
       "min         0.000000\n",
       "25%         0.000000\n",
       "50%         0.000000\n",
       "75%       112.000000\n",
       "max      4626.000000\n",
       "Name: probable_deaths, dtype: float64"
      ]
     },
     "execution_count": 18,
     "metadata": {},
     "output_type": "execute_result"
    }
   ],
   "source": [
    "Covid['probable_deaths'].describe()"
   ]
  },
  {
   "cell_type": "code",
   "execution_count": 75,
   "metadata": {},
   "outputs": [
    {
     "data": {
      "text/plain": [
       "4628486"
      ]
     },
     "execution_count": 75,
     "metadata": {},
     "output_type": "execute_result"
    }
   ],
   "source": [
    "Covid['cases'].sum()"
   ]
  },
  {
   "cell_type": "code",
   "execution_count": 73,
   "metadata": {
    "scrolled": true
   },
   "outputs": [
    {
     "data": {
      "text/plain": [
       "154909"
      ]
     },
     "execution_count": 73,
     "metadata": {},
     "output_type": "execute_result"
    }
   ],
   "source": [
    "Covid['deaths'].sum()"
   ]
  },
  {
   "cell_type": "markdown",
   "metadata": {},
   "source": [
    "**Descriptive statistics summary:** Based off the `describe()`and `sum()` functions, we learn that for the `cases` we have approximately 4.6M and `deaths` we have 154K. \n",
    "\n",
    "This data is also live as i went to the following link that pulled the same amount: https://www.google.com/search?q=how+many+covid+deaths+in+the+us&rlz=1C1GCEA_enUS885US885&oq=how+many+covid+deaths+in+the+us&aqs=chrome..69i57j0l7.4548j0j7&sourceid=chrome&ie=UTF-8. \n",
    "\n",
    "It is important to note that the data was ran on 8/2 and the website reviewed on 8/4 matching. If a user were to examine these later, the entire project would need to be refreshed. \n",
    "        "
   ]
  },
  {
   "cell_type": "markdown",
   "metadata": {},
   "source": [
    "**CDF and PMF:** The purpose of cumlative distrubition funciton (CDF)is to examine the entire distrubition and put each case to the % it would fall in the distrubition. This is a good analysis to use when trying to determine high wide spread cases by utilizing a `>X` funciton to pin point the states or counties with the wide spread. \n",
    "\n",
    "The probability mass function (PMF) gives the probability that the discrete random variable is equal to some value so our highest number of 509507 would be equal to 1 or 100 in this modeling. This is also good when you are looking to do a measure of keeping cases below a certain number like 10% of positive cases to negative as an example. "
   ]
  },
  {
   "cell_type": "code",
   "execution_count": 4,
   "metadata": {},
   "outputs": [],
   "source": [
    "def CDF (data):\n",
    "    \n",
    "    n=len(data)\n",
    "    \n",
    "    x= np.sort(data)\n",
    "    \n",
    "    y= np.arange(1,len(x)+1) /n\n",
    "    \n",
    "    return x,y"
   ]
  },
  {
   "cell_type": "code",
   "execution_count": 5,
   "metadata": {},
   "outputs": [],
   "source": [
    "data =Covid['cases']"
   ]
  },
  {
   "cell_type": "code",
   "execution_count": 6,
   "metadata": {
    "scrolled": false
   },
   "outputs": [
    {
     "data": {
      "text/plain": [
       "(array([    44,    421,   1328,   1421,   2174,   2769,   3825,   3937,\n",
       "          4081,   6606,   6613,   6735,   8867,  12205,  14877,  17872,\n",
       "         18817,  19022,  20796,  21231,  26391,  28147,  31612,  37706,\n",
       "         40759,  43173,  45295,  47357,  49207,  49810,  51985,  55228,\n",
       "         58064,  59647,  59881,  68773,  89349,  89925,  90599,  90801,\n",
       "         91450,  92087, 105455, 116394, 117468, 118040, 124078, 174834,\n",
       "        177008, 182232, 183904, 420477, 448182, 480020, 509507],\n",
       "       dtype=int64),\n",
       " array([0.01818182, 0.03636364, 0.05454545, 0.07272727, 0.09090909,\n",
       "        0.10909091, 0.12727273, 0.14545455, 0.16363636, 0.18181818,\n",
       "        0.2       , 0.21818182, 0.23636364, 0.25454545, 0.27272727,\n",
       "        0.29090909, 0.30909091, 0.32727273, 0.34545455, 0.36363636,\n",
       "        0.38181818, 0.4       , 0.41818182, 0.43636364, 0.45454545,\n",
       "        0.47272727, 0.49090909, 0.50909091, 0.52727273, 0.54545455,\n",
       "        0.56363636, 0.58181818, 0.6       , 0.61818182, 0.63636364,\n",
       "        0.65454545, 0.67272727, 0.69090909, 0.70909091, 0.72727273,\n",
       "        0.74545455, 0.76363636, 0.78181818, 0.8       , 0.81818182,\n",
       "        0.83636364, 0.85454545, 0.87272727, 0.89090909, 0.90909091,\n",
       "        0.92727273, 0.94545455, 0.96363636, 0.98181818, 1.        ]))"
      ]
     },
     "execution_count": 6,
     "metadata": {},
     "output_type": "execute_result"
    }
   ],
   "source": [
    "CDF(data)"
   ]
  },
  {
   "cell_type": "code",
   "execution_count": 7,
   "metadata": {},
   "outputs": [],
   "source": [
    "def CDF (data2):\n",
    "    \n",
    "    n=len(data2)\n",
    "    \n",
    "    x= np.sort(data2)\n",
    "    \n",
    "    y= np.arange(1,len(x)+1) /n\n",
    "    \n",
    "    return x,y"
   ]
  },
  {
   "cell_type": "code",
   "execution_count": 8,
   "metadata": {},
   "outputs": [],
   "source": [
    "data2 =Covid['deaths']"
   ]
  },
  {
   "cell_type": "code",
   "execution_count": 9,
   "metadata": {
    "scrolled": true
   },
   "outputs": [
    {
     "data": {
      "text/plain": [
       "(array([    2,     6,     8,    22,    25,    26,    57,    61,   107,\n",
       "          116,   123,   134,   197,   225,   312,   329,   338,   358,\n",
       "          416,   458,   549,   585,   585,   651,   758,   832,   871,\n",
       "          955,  1007,  1056,  1311,  1603,  1646,  1676,  1693,  1751,\n",
       "         1846,  1989,  2215,  2971,  3506,  3515,  3744,  3753,  3949,\n",
       "         4432,  6460,  7021,  7270,  7471,  7707,  8626,  9365, 15830,\n",
       "        32390], dtype=int64),\n",
       " array([0.01818182, 0.03636364, 0.05454545, 0.07272727, 0.09090909,\n",
       "        0.10909091, 0.12727273, 0.14545455, 0.16363636, 0.18181818,\n",
       "        0.2       , 0.21818182, 0.23636364, 0.25454545, 0.27272727,\n",
       "        0.29090909, 0.30909091, 0.32727273, 0.34545455, 0.36363636,\n",
       "        0.38181818, 0.4       , 0.41818182, 0.43636364, 0.45454545,\n",
       "        0.47272727, 0.49090909, 0.50909091, 0.52727273, 0.54545455,\n",
       "        0.56363636, 0.58181818, 0.6       , 0.61818182, 0.63636364,\n",
       "        0.65454545, 0.67272727, 0.69090909, 0.70909091, 0.72727273,\n",
       "        0.74545455, 0.76363636, 0.78181818, 0.8       , 0.81818182,\n",
       "        0.83636364, 0.85454545, 0.87272727, 0.89090909, 0.90909091,\n",
       "        0.92727273, 0.94545455, 0.96363636, 0.98181818, 1.        ]))"
      ]
     },
     "execution_count": 9,
     "metadata": {},
     "output_type": "execute_result"
    }
   ],
   "source": [
    "CDF(data2)"
   ]
  },
  {
   "cell_type": "code",
   "execution_count": 36,
   "metadata": {},
   "outputs": [
    {
     "data": {
      "text/plain": [
       "Pmf({585: 0.03636363636363636, 22: 0.01818181818181818, 1311: 0.01818181818181818, 57: 0.01818181818181818, 312: 0.01818181818181818, 1846: 0.01818181818181818, 3506: 0.01818181818181818, 1056: 0.01818181818181818, 329: 0.01818181818181818, 3753: 0.01818181818181818, 2215: 0.01818181818181818, 549: 0.01818181818181818, 3744: 0.01818181818181818, 1693: 0.01818181818181818, 6460: 0.01818181818181818, 7707: 0.01818181818181818, 26: 0.01818181818181818, 25: 0.01818181818181818, 1989: 0.01818181818181818, 9365: 0.01818181818181818, 7471: 0.01818181818181818, 651: 0.01818181818181818, 8: 0.01818181818181818, 6: 0.01818181818181818, 358: 0.01818181818181818, 2: 0.01818181818181818, 3515: 0.01818181818181818, 61: 0.01818181818181818, 123: 0.01818181818181818, 832: 0.01818181818181818, 758: 0.01818181818181818, 116: 0.01818181818181818, 7021: 0.01818181818181818, 1007: 0.01818181818181818, 1646: 0.01818181818181818, 3949: 0.01818181818181818, 107: 0.01818181818181818, 955: 0.01818181818181818, 134: 0.01818181818181818, 871: 0.01818181818181818, 7270: 0.01818181818181818, 225: 0.01818181818181818, 8626: 0.01818181818181818, 1751: 0.01818181818181818, 15830: 0.01818181818181818, 416: 0.01818181818181818, 338: 0.01818181818181818, 4432: 0.01818181818181818, 458: 0.01818181818181818, 32390: 0.01818181818181818, 2971: 0.01818181818181818, 197: 0.01818181818181818, 1603: 0.01818181818181818, 1676: 0.01818181818181818})"
      ]
     },
     "execution_count": 36,
     "metadata": {},
     "output_type": "execute_result"
    }
   ],
   "source": [
    "x_pmf"
   ]
  },
  {
   "cell_type": "markdown",
   "metadata": {},
   "source": [
    "*Note:* The data i'm using for Covid were cases by state that were discrete in that they were at the time of analysis. From a PMF perspective, the data was treated as a dicitonary as the probability to get that same number would have to be examined by the distrubtion provided. If this was a PMF on rolling a dice we would have had each number by probablity of each roll.  Adding the PMF just as part of the assignment. \n",
    "\n",
    "\n",
    "x_pmf= thinkstats2.MakePmfFromDict(Covid.deaths)"
   ]
  },
  {
   "cell_type": "code",
   "execution_count": 83,
   "metadata": {},
   "outputs": [],
   "source": [
    "# The following was set up for the PMF for mean of deaths\n",
    "Covid_death_mean = Covid['deaths'].mean()"
   ]
  },
  {
   "cell_type": "code",
   "execution_count": 84,
   "metadata": {},
   "outputs": [],
   "source": [
    "# The following was set up for the PMF for std of deaths\n",
    "Covid_death_std = Covid['deaths'].std()"
   ]
  },
  {
   "cell_type": "code",
   "execution_count": 82,
   "metadata": {},
   "outputs": [
    {
     "data": {
      "text/plain": [
       "(2816.5272727272727, 5122.364727547249)"
      ]
     },
     "execution_count": 82,
     "metadata": {},
     "output_type": "execute_result"
    }
   ],
   "source": [
    "# The following objects summarize the mean and STD of what was created. \n",
    "Covid_death_mean,Covid_death_std"
   ]
  },
  {
   "cell_type": "markdown",
   "metadata": {},
   "source": [
    "**Analytical distributions and plots:** The purpose of this section is to examine one analytical plot and various others to determine any visual covariance, correlations, or non-linear relationships to consider."
   ]
  },
  {
   "cell_type": "code",
   "execution_count": 22,
   "metadata": {},
   "outputs": [],
   "source": [
    "Covid1 = Covid.dropna(subset=['cases','deaths'])"
   ]
  },
  {
   "cell_type": "code",
   "execution_count": 32,
   "metadata": {},
   "outputs": [
    {
     "data": {
      "text/plain": [
       "<matplotlib.axes._subplots.AxesSubplot at 0x1bc87f1d988>"
      ]
     },
     "execution_count": 32,
     "metadata": {},
     "output_type": "execute_result"
    },
    {
     "data": {
      "image/png": "[encoded data removed]",
      "text/plain": [
       "<Figure size 432x288 with 1 Axes>"
      ]
     },
     "metadata": {
      "needs_background": "light"
     },
     "output_type": "display_data"
    }
   ],
   "source": [
    "#The following plot was used to indicate that there are still significant cases and deaths within the tail of the box plot indicating it is not a few outliers. \n",
    "Covid1.boxplot()"
   ]
  },
  {
   "cell_type": "code",
   "execution_count": 71,
   "metadata": {},
   "outputs": [
    {
     "data": {
      "text/plain": [
       "<matplotlib.axes._subplots.AxesSubplot at 0x21365eb1788>"
      ]
     },
     "execution_count": 71,
     "metadata": {},
     "output_type": "execute_result"
    },
    {
     "data": {
      "image/png": "[encoded data removed]",
      "text/plain": [
       "<Figure size 432x288 with 1 Axes>"
      ]
     },
     "metadata": {
      "needs_background": "light"
     },
     "output_type": "display_data"
    }
   ],
   "source": [
    "Covid.plot.scatter ( x= 'deaths', y='cases')"
   ]
  },
  {
   "cell_type": "code",
   "execution_count": 73,
   "metadata": {},
   "outputs": [
    {
     "data": {
      "text/plain": [
       "<matplotlib.axes._subplots.AxesSubplot at 0x2136507a5c8>"
      ]
     },
     "execution_count": 73,
     "metadata": {},
     "output_type": "execute_result"
    },
    {
     "data": {
      "image/png": "[encoded data removed]",
      "text/plain": [
       "<Figure size 432x288 with 1 Axes>"
      ]
     },
     "metadata": {
      "needs_background": "light"
     },
     "output_type": "display_data"
    }
   ],
   "source": [
    "Covid.plot.scatter ( x= 'confirmed_deaths', y='confirmed_cases')"
   ]
  },
  {
   "cell_type": "markdown",
   "metadata": {},
   "source": [
    "**Hypothesis testing:** In order to determine if cases to deaths have statistical significance, the user conducted several exploratory data analysis procedures to test. First, the data was collected from a reputable source that has validity and replicability in the data set. Next, the data was examined for outliers and distributions. Once the data was examined the two variables that did not have missing values were `cases` and `deaths`. The dependent variable of `deaths` was tested against the independent variable of `cases` to determine significant significance. Correlations were tested to determine if the variables had any correlations to which could dilute statistical power. Finally, a simple regression was conducted. \n",
    "    \n",
    "    Omnibus HO: There is not a relationship between cases and deaths\n",
    "    Omnibus HA: There is a relationship between cases and deaths\n"
   ]
  },
  {
   "cell_type": "code",
   "execution_count": 34,
   "metadata": {
    "scrolled": false
   },
   "outputs": [
    {
     "data": {
      "text/html": [
       "<div>\n",
       "<style scoped>\n",
       "    .dataframe tbody tr th:only-of-type {\n",
       "        vertical-align: middle;\n",
       "    }\n",
       "\n",
       "    .dataframe tbody tr th {\n",
       "        vertical-align: top;\n",
       "    }\n",
       "\n",
       "    .dataframe thead th {\n",
       "        text-align: right;\n",
       "    }\n",
       "</style>\n",
       "<table border=\"1\" class=\"dataframe\">\n",
       "  <thead>\n",
       "    <tr style=\"text-align: right;\">\n",
       "      <th></th>\n",
       "      <th>fips</th>\n",
       "      <th>cases</th>\n",
       "      <th>deaths</th>\n",
       "      <th>confirmed_cases</th>\n",
       "      <th>confirmed_deaths</th>\n",
       "      <th>probable_cases</th>\n",
       "      <th>probable_deaths</th>\n",
       "    </tr>\n",
       "  </thead>\n",
       "  <tbody>\n",
       "    <tr>\n",
       "      <td>fips</td>\n",
       "      <td>1.000000</td>\n",
       "      <td>-0.215818</td>\n",
       "      <td>-0.115370</td>\n",
       "      <td>-0.215205</td>\n",
       "      <td>-0.180428</td>\n",
       "      <td>-0.168712</td>\n",
       "      <td>0.062649</td>\n",
       "    </tr>\n",
       "    <tr>\n",
       "      <td>cases</td>\n",
       "      <td>-0.215818</td>\n",
       "      <td>1.000000</td>\n",
       "      <td>0.708106</td>\n",
       "      <td>0.835072</td>\n",
       "      <td>0.715310</td>\n",
       "      <td>0.469499</td>\n",
       "      <td>0.548024</td>\n",
       "    </tr>\n",
       "    <tr>\n",
       "      <td>deaths</td>\n",
       "      <td>-0.115370</td>\n",
       "      <td>0.708106</td>\n",
       "      <td>1.000000</td>\n",
       "      <td>0.722704</td>\n",
       "      <td>0.997357</td>\n",
       "      <td>0.121815</td>\n",
       "      <td>0.891651</td>\n",
       "    </tr>\n",
       "    <tr>\n",
       "      <td>confirmed_cases</td>\n",
       "      <td>-0.215205</td>\n",
       "      <td>0.835072</td>\n",
       "      <td>0.722704</td>\n",
       "      <td>1.000000</td>\n",
       "      <td>0.717112</td>\n",
       "      <td>-0.093671</td>\n",
       "      <td>0.640723</td>\n",
       "    </tr>\n",
       "    <tr>\n",
       "      <td>confirmed_deaths</td>\n",
       "      <td>-0.180428</td>\n",
       "      <td>0.715310</td>\n",
       "      <td>0.997357</td>\n",
       "      <td>0.717112</td>\n",
       "      <td>1.000000</td>\n",
       "      <td>0.143734</td>\n",
       "      <td>0.856399</td>\n",
       "    </tr>\n",
       "    <tr>\n",
       "      <td>probable_cases</td>\n",
       "      <td>-0.168712</td>\n",
       "      <td>0.469499</td>\n",
       "      <td>0.121815</td>\n",
       "      <td>-0.093671</td>\n",
       "      <td>0.143734</td>\n",
       "      <td>1.000000</td>\n",
       "      <td>-0.035052</td>\n",
       "    </tr>\n",
       "    <tr>\n",
       "      <td>probable_deaths</td>\n",
       "      <td>0.062649</td>\n",
       "      <td>0.548024</td>\n",
       "      <td>0.891651</td>\n",
       "      <td>0.640723</td>\n",
       "      <td>0.856399</td>\n",
       "      <td>-0.035052</td>\n",
       "      <td>1.000000</td>\n",
       "    </tr>\n",
       "  </tbody>\n",
       "</table>\n",
       "</div>"
      ],
      "text/plain": [
       "                      fips     cases    deaths  confirmed_cases  \\\n",
       "fips              1.000000 -0.215818 -0.115370        -0.215205   \n",
       "cases            -0.215818  1.000000  0.708106         0.835072   \n",
       "deaths           -0.115370  0.708106  1.000000         0.722704   \n",
       "confirmed_cases  -0.215205  0.835072  0.722704         1.000000   \n",
       "confirmed_deaths -0.180428  0.715310  0.997357         0.717112   \n",
       "probable_cases   -0.168712  0.469499  0.121815        -0.093671   \n",
       "probable_deaths   0.062649  0.548024  0.891651         0.640723   \n",
       "\n",
       "                  confirmed_deaths  probable_cases  probable_deaths  \n",
       "fips                     -0.180428       -0.168712         0.062649  \n",
       "cases                     0.715310        0.469499         0.548024  \n",
       "deaths                    0.997357        0.121815         0.891651  \n",
       "confirmed_cases           0.717112       -0.093671         0.640723  \n",
       "confirmed_deaths          1.000000        0.143734         0.856399  \n",
       "probable_cases            0.143734        1.000000        -0.035052  \n",
       "probable_deaths           0.856399       -0.035052         1.000000  "
      ]
     },
     "execution_count": 34,
     "metadata": {},
     "output_type": "execute_result"
    }
   ],
   "source": [
    "## The following shows a high correlation to number of cases and deaths across all 5 constructs\n",
    "\n",
    "Covid.corr()"
   ]
  },
  {
   "cell_type": "code",
   "execution_count": 35,
   "metadata": {},
   "outputs": [],
   "source": [
    "## Creating two variables for regression testing as an example\n",
    "x = Covid['cases']\n",
    "y= Covid['deaths']"
   ]
  },
  {
   "cell_type": "code",
   "execution_count": 47,
   "metadata": {
    "scrolled": false
   },
   "outputs": [
    {
     "data": {
      "text/html": [
       "<table class=\"simpletable\">\n",
       "<caption>OLS Regression Results</caption>\n",
       "<tr>\n",
       "  <th>Dep. Variable:</th>         <td>deaths</td>      <th>  R-squared (uncentered):</th>      <td>   0.618</td>\n",
       "</tr>\n",
       "<tr>\n",
       "  <th>Model:</th>                   <td>OLS</td>       <th>  Adj. R-squared (uncentered):</th> <td>   0.610</td>\n",
       "</tr>\n",
       "<tr>\n",
       "  <th>Method:</th>             <td>Least Squares</td>  <th>  F-statistic:       </th>          <td>   87.20</td>\n",
       "</tr>\n",
       "<tr>\n",
       "  <th>Date:</th>             <td>Mon, 03 Aug 2020</td> <th>  Prob (F-statistic):</th>          <td>7.29e-13</td>\n",
       "</tr>\n",
       "<tr>\n",
       "  <th>Time:</th>                 <td>18:49:06</td>     <th>  Log-Likelihood:    </th>          <td> -528.26</td>\n",
       "</tr>\n",
       "<tr>\n",
       "  <th>No. Observations:</th>      <td>    55</td>      <th>  AIC:               </th>          <td>   1059.</td>\n",
       "</tr>\n",
       "<tr>\n",
       "  <th>Df Residuals:</th>          <td>    54</td>      <th>  BIC:               </th>          <td>   1061.</td>\n",
       "</tr>\n",
       "<tr>\n",
       "  <th>Df Model:</th>              <td>     1</td>      <th>                     </th>              <td> </td>   \n",
       "</tr>\n",
       "<tr>\n",
       "  <th>Covariance Type:</th>      <td>nonrobust</td>    <th>                     </th>              <td> </td>   \n",
       "</tr>\n",
       "</table>\n",
       "<table class=\"simpletable\">\n",
       "<tr>\n",
       "    <td></td>       <th>coef</th>     <th>std err</th>      <th>t</th>      <th>P>|t|</th>  <th>[0.025</th>    <th>0.975]</th>  \n",
       "</tr>\n",
       "<tr>\n",
       "  <th>cases</th> <td>    0.0315</td> <td>    0.003</td> <td>    9.338</td> <td> 0.000</td> <td>    0.025</td> <td>    0.038</td>\n",
       "</tr>\n",
       "</table>\n",
       "<table class=\"simpletable\">\n",
       "<tr>\n",
       "  <th>Omnibus:</th>       <td>58.314</td> <th>  Durbin-Watson:     </th> <td>   1.925</td> \n",
       "</tr>\n",
       "<tr>\n",
       "  <th>Prob(Omnibus):</th> <td> 0.000</td> <th>  Jarque-Bera (JB):  </th> <td> 477.559</td> \n",
       "</tr>\n",
       "<tr>\n",
       "  <th>Skew:</th>          <td> 2.666</td> <th>  Prob(JB):          </th> <td>1.99e-104</td>\n",
       "</tr>\n",
       "<tr>\n",
       "  <th>Kurtosis:</th>      <td>16.415</td> <th>  Cond. No.          </th> <td>    1.00</td> \n",
       "</tr>\n",
       "</table><br/><br/>Warnings:<br/>[1] Standard Errors assume that the covariance matrix of the errors is correctly specified."
      ],
      "text/plain": [
       "<class 'statsmodels.iolib.summary.Summary'>\n",
       "\"\"\"\n",
       "                                 OLS Regression Results                                \n",
       "=======================================================================================\n",
       "Dep. Variable:                 deaths   R-squared (uncentered):                   0.618\n",
       "Model:                            OLS   Adj. R-squared (uncentered):              0.610\n",
       "Method:                 Least Squares   F-statistic:                              87.20\n",
       "Date:                Mon, 03 Aug 2020   Prob (F-statistic):                    7.29e-13\n",
       "Time:                        18:49:06   Log-Likelihood:                         -528.26\n",
       "No. Observations:                  55   AIC:                                      1059.\n",
       "Df Residuals:                      54   BIC:                                      1061.\n",
       "Df Model:                           1                                                  \n",
       "Covariance Type:            nonrobust                                                  \n",
       "==============================================================================\n",
       "                 coef    std err          t      P>|t|      [0.025      0.975]\n",
       "------------------------------------------------------------------------------\n",
       "cases          0.0315      0.003      9.338      0.000       0.025       0.038\n",
       "==============================================================================\n",
       "Omnibus:                       58.314   Durbin-Watson:                   1.925\n",
       "Prob(Omnibus):                  0.000   Jarque-Bera (JB):              477.559\n",
       "Skew:                           2.666   Prob(JB):                    1.99e-104\n",
       "Kurtosis:                      16.415   Cond. No.                         1.00\n",
       "==============================================================================\n",
       "\n",
       "Warnings:\n",
       "[1] Standard Errors assume that the covariance matrix of the errors is correctly specified.\n",
       "\"\"\""
      ]
     },
     "execution_count": 47,
     "metadata": {},
     "output_type": "execute_result"
    }
   ],
   "source": [
    "# A simple regression was used to conduct the tests. \n",
    "model = sm.OLS(y, x).fit()\n",
    "predictions = model.predict(x) # make the predictions by the model\n",
    "\n",
    "# Print out the statistics\n",
    "model.summary()"
   ]
  },
  {
   "cell_type": "markdown",
   "metadata": {},
   "source": [
    "**Outcome and analysis:**\n",
    "\n",
    "First of all the RSquared value indicates the model only explains 61% of the deaths related to cases. Obviously looking at the data set, we do not have additional constructs to measure as independent variables to the root causes of the deaths other than Covid-19. In other words, what other factors lead to these deaths?\n",
    "\n",
    "The Durbin-Watson statistic indicates a value of 2.0 out of a 0 to 4 scale which indicates there is no autocorrelation detected. Meaning, results with the p-values will be valid and not diluted by measures that are distributed similarly to the other constructs. \n",
    "\n",
    "We can see that p= 0.00 is indicating that Covid Cases to Deaths are statistically significant. The Coef of 0.0315 indicates that as cases increase by 1 so will deaths at 0.0315%\n",
    "\n",
    "**We reject the null hypothesis and accept the alternative: There is a relationship between `cases` and `deaths`.**\n"
   ]
  }
 ],
 "metadata": {
  "kernelspec": {
   "display_name": "Python 3",
   "language": "python",
   "name": "python3"
  },
  "language_info": {
   "codemirror_mode": {
    "name": "ipython",
    "version": 3
   },
   "file_extension": ".py",
   "mimetype": "text/x-python",
   "name": "python",
   "nbconvert_exporter": "python",
   "pygments_lexer": "ipython3",
   "version": "3.7.4"
  }
 },
 "nbformat": 4,
 "nbformat_minor": 2
}
